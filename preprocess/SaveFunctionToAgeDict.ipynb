{
 "cells": [
  {
   "cell_type": "code",
   "execution_count": 3,
   "metadata": {},
   "outputs": [],
   "source": [
    "import pickle\n",
    "import statistics \n",
    "\n",
    "function_to_genes_dict = pickle.load(open(\"../data/function_to_genes_all_in_simplified.p\",\"rb\"))\n",
    "\n",
    "def get_function_to_age_dict(gene_to_age_dict,function_to_genes_dict,filtered_by = None):\n",
    "    if filtered_by != None:\n",
    "        gene_to_consensus_inaccuracy_score_dict = pickle.load(open('../data/gene_to_%s_dict.p'%filtered_by,'rb'))\n",
    "        median_inaccuracy = statistics.median(list(gene_to_consensus_inaccuracy_score_dict.values()))\n",
    "    \n",
    "    function_to_age_dict = {}\n",
    "    for func in function_to_genes_dict:\n",
    "        if func == \"Term\": #TODO: understand why some bad data sometimes\n",
    "            continue \n",
    "        # TODO: make robust against functions with genes not given in dataset\n",
    "        if filtered_by == None:\n",
    "            genes = function_to_genes_dict[func.strip()]\n",
    "        else:\n",
    "            genes = [gene for gene in function_to_genes_dict[func.strip()] if gene in gene_to_consensus_inaccuracy_score_dict and gene_to_consensus_inaccuracy_score_dict[gene] < median_inaccuracy]\n",
    "        ages = list(map(lambda x: gene_to_age_dict[x.strip()] , genes)) \n",
    "        function_to_age_dict[func] = ages\n",
    "    #print function_to_age_dict\n",
    "    return function_to_age_dict\n",
    "\n",
    "\n",
    "for filtered_by in [None,\"entropy\",\"node_error\",\"bimodality\"]:\n",
    "    add_string_to_fname = \"\"\n",
    "    if filtered_by != None:\n",
    "        add_string_to_fname = \"_filtered_by_%s\"%filtered_by\n",
    "    # for data from multiple datasets\n",
    "    dataset_to_gene_to_age_dict = pickle.load(open(\"../data/dataset_to_gene_to_age_dict.p\",\"rb\"))  \n",
    "    for dataset in dataset_to_gene_to_age_dict:\n",
    "        gene_to_age_dict = dataset_to_gene_to_age_dict[dataset]\n",
    "        function_to_age_dict = get_function_to_age_dict(gene_to_age_dict, function_to_genes_dict,filtered_by)\n",
    "        pickle.dump(function_to_age_dict,open(\"../data/function_to_age_%s_dict%s.p\"%(dataset,add_string_to_fname),\"wb\"))\n",
    "\n",
    "\n",
    "    # for simplified data\n",
    "    gene_to_age_simplified_dict = pickle.load(open(\"../data/gene_to_age_simplified_dict.p\",\"rb\"))\n",
    "    function_to_age_dict = get_function_to_age_dict(gene_to_age_simplified_dict, function_to_genes_dict,filtered_by)\n",
    "    pickle.dump(function_to_age_dict,open(\"../data/function_to_age_simplified_dict%s.p\"%add_string_to_fname,\"wb\"))"
   ]
  },
  {
   "cell_type": "code",
   "execution_count": null,
   "metadata": {},
   "outputs": [],
   "source": []
  }
 ],
 "metadata": {
  "kernelspec": {
   "display_name": "Python 3",
   "language": "python",
   "name": "python3"
  },
  "language_info": {
   "codemirror_mode": {
    "name": "ipython",
    "version": 3
   },
   "file_extension": ".py",
   "mimetype": "text/x-python",
   "name": "python",
   "nbconvert_exporter": "python",
   "pygments_lexer": "ipython3",
   "version": "3.5.2"
  }
 },
 "nbformat": 4,
 "nbformat_minor": 2
}
