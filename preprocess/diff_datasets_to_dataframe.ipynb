{
 "cells": [
  {
   "cell_type": "code",
   "execution_count": 1,
   "metadata": {},
   "outputs": [],
   "source": [
    "import pickle\n",
    "import numpy as np\n",
    "from matplotlib import pyplot as plt\n",
    "import random\n",
    "import sys\n",
    "import seaborn as sns\n",
    "import pandas as pd\n",
    "from scipy import stats\n"
   ]
  },
  {
   "cell_type": "code",
   "execution_count": 3,
   "metadata": {},
   "outputs": [],
   "source": [
    "#removing spaces from functions to genes\n",
    "function_to_genes_dict = pickle.load(open(\"../data/function_to_genes_all_in_simplified.p\",\"rb\"))\n",
    "for func in function_to_genes_dict.keys():\n",
    "    genes_list = []\n",
    "    for gene in function_to_genes_dict[func]:\n",
    "        genes_list.append(gene.strip())\n",
    "    function_to_genes_dict[func] = genes_list\n",
    "pickle.dump(function_to_genes_dict,open(\"../data/function_to_genes_all_in_simplified.p\",\"wb\"))\n",
    "#print function_to_genes_dict"
   ]
  },
  {
   "cell_type": "code",
   "execution_count": 4,
   "metadata": {},
   "outputs": [],
   "source": [
    "#columns: dataset (or average), function, gene, age\n",
    "\n",
    "\n",
    "dataset_to_gene_to_age_dict = pickle.load(open(\"../data/dataset_to_gene_to_age_dict.p\",\"rb\"))  \n",
    "functions_to_genes = pickle.load(open(\"../data/function_to_genes_all_in_simplified.p\",\"rb\"))  \n",
    "dataset_list = dataset_to_gene_to_age_dict.keys()\n",
    "functions_list = functions_to_genes.keys()"
   ]
  },
  {
   "cell_type": "code",
   "execution_count": 6,
   "metadata": {},
   "outputs": [
    {
     "name": "stdout",
     "output_type": "stream",
     "text": [
      "PANTHER8_all\n",
      "EggNOG\n",
      "InParanoidCore\n",
      "Hieranoid_2\n",
      "RSD\n",
      "OMA_Groups\n",
      "Orthoinspector\n",
      "OMA_Pairs\n",
      "PhylomeDB\n",
      "Metaphors\n",
      "InParanoid\n",
      "PANTHER8_LDO\n",
      "EnsemblCompara_v2\n"
     ]
    }
   ],
   "source": [
    "df_list = []\n",
    "for dataset in dataset_list:\n",
    "    print dataset\n",
    "    for gene in dataset_to_gene_to_age_dict[dataset]:\n",
    "        for func in functions_list:\n",
    "            if gene in functions_to_genes[func]:\n",
    "                row = [dataset, func, gene,dataset_to_gene_to_age_dict[dataset][gene]]\n",
    "                df_list.append(row)"
   ]
  },
  {
   "cell_type": "code",
   "execution_count": 7,
   "metadata": {},
   "outputs": [],
   "source": [
    "gene_to_age_dict = pickle.load(open(\"../data/gene_to_age_simplified_dict.p\",\"rb\"))\n",
    "for gene in gene_to_age_dict:\n",
    "    for func in functions_list:\n",
    "        if gene in functions_to_genes[func]:\n",
    "            row = [\"average\",func,gene,gene_to_age_dict[gene]]\n",
    "            df_list.append(row)"
   ]
  },
  {
   "cell_type": "code",
   "execution_count": 17,
   "metadata": {},
   "outputs": [],
   "source": [
    "df = pd.DataFrame(np.array(df_list), columns=['dataset','function','gene','age'])\n",
    "df[\"age\"] = pd.to_numeric(df[\"age\"])\n"
   ]
  },
  {
   "cell_type": "code",
   "execution_count": 20,
   "metadata": {},
   "outputs": [],
   "source": [
    "df_new = df.dropna()"
   ]
  },
  {
   "cell_type": "code",
   "execution_count": 21,
   "metadata": {
    "collapsed": true
   },
   "outputs": [
    {
     "data": {
      "text/html": [
       "<div>\n",
       "<style scoped>\n",
       "    .dataframe tbody tr th:only-of-type {\n",
       "        vertical-align: middle;\n",
       "    }\n",
       "\n",
       "    .dataframe tbody tr th {\n",
       "        vertical-align: top;\n",
       "    }\n",
       "\n",
       "    .dataframe thead th {\n",
       "        text-align: right;\n",
       "    }\n",
       "</style>\n",
       "<table border=\"1\" class=\"dataframe\">\n",
       "  <thead>\n",
       "    <tr style=\"text-align: right;\">\n",
       "      <th></th>\n",
       "      <th>dataset</th>\n",
       "      <th>function</th>\n",
       "      <th>gene</th>\n",
       "      <th>age</th>\n",
       "    </tr>\n",
       "  </thead>\n",
       "  <tbody>\n",
       "    <tr>\n",
       "      <th>0</th>\n",
       "      <td>PANTHER8_all</td>\n",
       "      <td>hsa04930:Type II diabetes mellitus</td>\n",
       "      <td>P30613</td>\n",
       "      <td>1.000000</td>\n",
       "    </tr>\n",
       "    <tr>\n",
       "      <th>1</th>\n",
       "      <td>PANTHER8_all</td>\n",
       "      <td>Acute phase</td>\n",
       "      <td>P02763</td>\n",
       "      <td>0.142857</td>\n",
       "    </tr>\n",
       "    <tr>\n",
       "      <th>2</th>\n",
       "      <td>PANTHER8_all</td>\n",
       "      <td>GO:0006953~acute-phase response</td>\n",
       "      <td>P02763</td>\n",
       "      <td>0.142857</td>\n",
       "    </tr>\n",
       "    <tr>\n",
       "      <th>3</th>\n",
       "      <td>PANTHER8_all</td>\n",
       "      <td>Potassium channel</td>\n",
       "      <td>Q9UQ05</td>\n",
       "      <td>0.571429</td>\n",
       "    </tr>\n",
       "    <tr>\n",
       "      <th>4</th>\n",
       "      <td>PANTHER8_all</td>\n",
       "      <td>GO:0008076~voltage-gated potassium channel com...</td>\n",
       "      <td>Q9UQ05</td>\n",
       "      <td>0.571429</td>\n",
       "    </tr>\n",
       "    <tr>\n",
       "      <th>5</th>\n",
       "      <td>PANTHER8_all</td>\n",
       "      <td>domain:PAS</td>\n",
       "      <td>Q9UQ05</td>\n",
       "      <td>0.571429</td>\n",
       "    </tr>\n",
       "    <tr>\n",
       "      <th>6</th>\n",
       "      <td>PANTHER8_all</td>\n",
       "      <td>SM00100:cNMP</td>\n",
       "      <td>Q9UQ05</td>\n",
       "      <td>0.571429</td>\n",
       "    </tr>\n",
       "    <tr>\n",
       "      <th>7</th>\n",
       "      <td>PANTHER8_all</td>\n",
       "      <td>IPR000595:Cyclic nucleotide-binding domain</td>\n",
       "      <td>Q9UQ05</td>\n",
       "      <td>0.571429</td>\n",
       "    </tr>\n",
       "    <tr>\n",
       "      <th>8</th>\n",
       "      <td>PANTHER8_all</td>\n",
       "      <td>IPR018490:Cyclic nucleotide-binding-like</td>\n",
       "      <td>Q9UQ05</td>\n",
       "      <td>0.571429</td>\n",
       "    </tr>\n",
       "    <tr>\n",
       "      <th>9</th>\n",
       "      <td>PANTHER8_all</td>\n",
       "      <td>IPR000014:PAS domain</td>\n",
       "      <td>Q9UQ05</td>\n",
       "      <td>0.571429</td>\n",
       "    </tr>\n",
       "  </tbody>\n",
       "</table>\n",
       "</div>"
      ],
      "text/plain": [
       "        dataset                                           function    gene  \\\n",
       "0  PANTHER8_all                 hsa04930:Type II diabetes mellitus  P30613   \n",
       "1  PANTHER8_all                                        Acute phase  P02763   \n",
       "2  PANTHER8_all                    GO:0006953~acute-phase response  P02763   \n",
       "3  PANTHER8_all                                  Potassium channel  Q9UQ05   \n",
       "4  PANTHER8_all  GO:0008076~voltage-gated potassium channel com...  Q9UQ05   \n",
       "5  PANTHER8_all                                         domain:PAS  Q9UQ05   \n",
       "6  PANTHER8_all                                       SM00100:cNMP  Q9UQ05   \n",
       "7  PANTHER8_all         IPR000595:Cyclic nucleotide-binding domain  Q9UQ05   \n",
       "8  PANTHER8_all           IPR018490:Cyclic nucleotide-binding-like  Q9UQ05   \n",
       "9  PANTHER8_all                               IPR000014:PAS domain  Q9UQ05   \n",
       "\n",
       "        age  \n",
       "0  1.000000  \n",
       "1  0.142857  \n",
       "2  0.142857  \n",
       "3  0.571429  \n",
       "4  0.571429  \n",
       "5  0.571429  \n",
       "6  0.571429  \n",
       "7  0.571429  \n",
       "8  0.571429  \n",
       "9  0.571429  "
      ]
     },
     "execution_count": 21,
     "metadata": {},
     "output_type": "execute_result"
    }
   ],
   "source": [
    "df_new.head(10)"
   ]
  },
  {
   "cell_type": "code",
   "execution_count": 22,
   "metadata": {},
   "outputs": [],
   "source": [
    "df_new.to_csv('../data/dataset_func_gene_age_data.csv', index=False, header=True)"
   ]
  }
 ],
 "metadata": {
  "kernelspec": {
   "display_name": "Python 2",
   "language": "python",
   "name": "python2"
  },
  "language_info": {
   "codemirror_mode": {
    "name": "ipython",
    "version": 3
   },
   "file_extension": ".py",
   "mimetype": "text/x-python",
   "name": "python",
   "nbconvert_exporter": "python",
   "pygments_lexer": "ipython3",
   "version": "3.5.2"
  }
 },
 "nbformat": 4,
 "nbformat_minor": 2
}
