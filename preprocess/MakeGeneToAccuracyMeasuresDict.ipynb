{
 "cells": [
  {
   "cell_type": "code",
   "execution_count": 5,
   "metadata": {},
   "outputs": [],
   "source": [
    "import pickle\n",
    "import csv\n",
    "\n",
    "# TODO double check how to get age out of period\n",
    "def get_age(period):\n",
    "    total = 7.0\n",
    "    if period == \"Cellular_organisms\":\n",
    "        return 7/total\n",
    "    if period == \"Euk_Archaea\":\n",
    "        return 6/total\n",
    "    if period == \"Euk+Bac\":\n",
    "        return 5/total\n",
    "    if period == \"Eukaryota\":\n",
    "        return 4/total\n",
    "    if period == \"Opisthokonta\":\n",
    "        return 3/total\n",
    "    if period == \"Eumetazoa\":\n",
    "        return 2/total\n",
    "    if period == \"Vertebrata\":\n",
    "        return 1/total\n",
    "    if period == \"Mammalia\":\n",
    "        return 0/total\n",
    "    return None\n",
    "\n",
    "\n",
    "\n",
    "gene_to_entropy_dict = {} \n",
    "gene_to_node_error_dict = {}\n",
    "gene_to_bimodality_dict = {}\n",
    "\n",
    "with open('../data/main_HUMAN.csv') as csv_file:\n",
    "    csv_reader = csv.reader(csv_file, delimiter=',')\n",
    "    line_count = 0\n",
    "    for row in csv_reader:\n",
    "        if line_count != 0:\n",
    "            curr_gene = row[0].strip()\n",
    "            gene_to_entropy_dict[curr_gene] = float(row[13])\n",
    "            gene_to_node_error_dict[curr_gene] = float(row[14])\n",
    "            gene_to_bimodality_dict[curr_gene] = float(row[15])\n",
    "        line_count += 1\n",
    "    \n",
    "pickle.dump(gene_to_entropy_dict,open('../data/gene_to_entropy_dict.p','wb'))\n",
    "pickle.dump(gene_to_node_error_dict,open('../data/gene_to_node_error_dict.p','wb'))\n",
    "pickle.dump(gene_to_bimodality_dict,open('../data/gene_to_bimodality_dict.p','wb'))"
   ]
  },
  {
   "cell_type": "code",
   "execution_count": null,
   "metadata": {},
   "outputs": [],
   "source": []
  }
 ],
 "metadata": {
  "kernelspec": {
   "display_name": "Python 3",
   "language": "python",
   "name": "python3"
  },
  "language_info": {
   "codemirror_mode": {
    "name": "ipython",
    "version": 3
   },
   "file_extension": ".py",
   "mimetype": "text/x-python",
   "name": "python",
   "nbconvert_exporter": "python",
   "pygments_lexer": "ipython3",
   "version": "3.5.2"
  }
 },
 "nbformat": 4,
 "nbformat_minor": 2
}
