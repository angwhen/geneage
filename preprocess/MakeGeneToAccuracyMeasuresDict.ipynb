{
 "cells": [
  {
   "cell_type": "code",
   "execution_count": 16,
   "metadata": {},
   "outputs": [],
   "source": [
    "import pickle\n",
    "import csv\n",
    "\n",
    "gene_to_entropy_dict = {} \n",
    "gene_to_node_error_dict = {}\n",
    "gene_to_bimodality_dict = {}\n",
    "\n",
    "with open('../data/main_HUMAN.csv') as csv_file:\n",
    "    csv_reader = csv.reader(csv_file, delimiter=',')\n",
    "    line_count = 0\n",
    "    for row in csv_reader:\n",
    "        if line_count != 0:\n",
    "            curr_gene = row[0].strip()\n",
    "            try:\n",
    "                gene_to_entropy_dict[curr_gene] = float(row[12])\n",
    "            except:\n",
    "                hold = 0\n",
    "            try: \n",
    "                gene_to_node_error_dict[curr_gene] = float(row[13])\n",
    "            except:\n",
    "                hold = 0\n",
    "            try:\n",
    "                gene_to_bimodality_dict[curr_gene] = float(row[14])\n",
    "            except:\n",
    "                hold = 0\n",
    "        line_count += 1\n",
    "    \n",
    "pickle.dump(gene_to_entropy_dict,open('../data/gene_to_entropy_dict.p','wb'))\n",
    "pickle.dump(gene_to_node_error_dict,open('../data/gene_to_node_error_dict.p','wb'))\n",
    "pickle.dump(gene_to_bimodality_dict,open('../data/gene_to_bimodality_dict.p','wb'))"
   ]
  },
  {
   "cell_type": "code",
   "execution_count": null,
   "metadata": {},
   "outputs": [],
   "source": []
  }
 ],
 "metadata": {
  "kernelspec": {
   "display_name": "Python 3",
   "language": "python",
   "name": "python3"
  },
  "language_info": {
   "codemirror_mode": {
    "name": "ipython",
    "version": 3
   },
   "file_extension": ".py",
   "mimetype": "text/x-python",
   "name": "python",
   "nbconvert_exporter": "python",
   "pygments_lexer": "ipython3",
   "version": "3.5.2"
  }
 },
 "nbformat": 4,
 "nbformat_minor": 2
}
