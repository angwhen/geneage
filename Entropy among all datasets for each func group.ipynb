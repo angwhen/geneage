{
 "cells": [
  {
   "cell_type": "code",
   "execution_count": 1,
   "metadata": {},
   "outputs": [],
   "source": [
    "import pickle, sys, csv, random\n",
    "import numpy as np\n",
    "from matplotlib import pyplot as plt\n",
    "plt.rcParams['figure.figsize'] = [20, 20]\n",
    "import seaborn as sns\n",
    "from scipy.stats import entropy\n",
    "import pandas as pd\n",
    "from collections import Counter"
   ]
  },
  {
   "cell_type": "code",
   "execution_count": 4,
   "metadata": {},
   "outputs": [
    {
     "name": "stdout",
     "output_type": "stream",
     "text": [
      "InParanoid\n",
      "PANTHER8_all\n",
      "PANTHER8_LDO\n",
      "Orthoinspector\n",
      "PhylomeDB\n",
      "EnsemblCompara_v2\n",
      "EggNOG\n",
      "Hieranoid_2\n",
      "OMA_Groups\n",
      "InParanoidCore\n",
      "Metaphors\n",
      "OMA_Pairs\n",
      "RSD\n"
     ]
    }
   ],
   "source": [
    "# make dict from gene to list of all ages from all diff datasets\n",
    "my_datasets_to_gene_to_age_dict = pickle.load(open(\"data/dataset_to_gene_to_age_dict.p\",\"rb\"))\n",
    "gene_to_ages_list_dict = {}\n",
    "ages_list = []\n",
    "for dataset in my_datasets_to_gene_to_age_dict.keys():\n",
    "    print (dataset)\n",
    "    my_gene_to_age_dict = my_datasets_to_gene_to_age_dict[dataset]\n",
    "    for gene in my_gene_to_age_dict.keys():\n",
    "        if gene not in gene_to_ages_list_dict:\n",
    "            gene_to_ages_list_dict = []\n",
    "        gene_to_ages_list_dict.append(my_gene_to_age_dict[gene])\n",
    "        ages_list.append(my_gene_to_age_dict[gene])"
   ]
  },
  {
   "cell_type": "code",
   "execution_count": null,
   "metadata": {},
   "outputs": [],
   "source": [
    "my_function_to_age_dict = {}\n"
   ]
  },
  {
   "cell_type": "code",
   "execution_count": 5,
   "metadata": {},
   "outputs": [],
   "source": [
    "def get_data_in_dataframe(function_to_ages,ages_list,lq = None,mq=None,uq=None):\n",
    "    if lq == None:\n",
    "        len_list = [len(function_to_ages[func]) for func in function_to_ages]\n",
    "        lq = np.percentile(len_list,25)\n",
    "        mq = np.percentile(len_list,50)\n",
    "        uq = np.percentile(len_list,75)\n",
    "        \n",
    "    #  make dict from era to proportion\n",
    "    era_proportion_dict = dict(Counter(ages_list))\n",
    "    for era in era_proportion_dict:\n",
    "        era_proportion_dict[era]=era_proportion_dict[era]/len(ages_list)\n",
    "    \n",
    "    data = [] #function, ages_list, mean, std, len, rand_mean, rand_std\n",
    "    for func in function_to_ages:\n",
    "        for my_type in [\"func_grouped\",\"random_grouped\"]:\n",
    "            curr = []\n",
    "            ages = np.array(function_to_ages[func])\n",
    "\n",
    "            #remove Nones\n",
    "            ages = ages[ages != np.array(None)]\n",
    "            if len(ages) == 0:\n",
    "                continue\n",
    "\n",
    "            if my_type == \"func_grouped\":\n",
    "                curr.append(func)\n",
    "                curr.append(ages)\n",
    "\n",
    "                #ENTROPY\n",
    "                ages_counts = dict(Counter(ages))\n",
    "                age_proportions = [] # no particular order \n",
    "                for age in ages_counts.keys():\n",
    "                    age_proportions.append(ages_counts[age]/len(ages))  \n",
    "                my_entropy = entropy(age_proportions, base=2)\n",
    "                curr.append(my_entropy)       \n",
    "    \n",
    "            else: #random\n",
    "                curr.append(\"no_func_name\")\n",
    "                ages_list = np.array(ages_list) # choosing random ages instead of choosing random genes, prob about the same result\n",
    "                ages_list = ages_list[ages_list != np.array(None)]\n",
    "                rand_ages = np.array(random.sample(list(ages_list),len(ages)))\n",
    "                curr.append(rand_ages)\n",
    "                \n",
    "                # ENTROPY\n",
    "                rand_ages_counts = Counter(rand_ages)\n",
    "                rand_age_proportions = [] # no particular order \n",
    "                for rand_age in rand_ages_counts.keys():\n",
    "                    rand_age_proportions.append(rand_ages_counts[rand_age]/len(rand_ages))\n",
    "                my_rand_entropy = entropy(rand_age_proportions, base=2)\n",
    "                curr.append(my_rand_entropy)     \n",
    "\n",
    "            #NUM ELS and TYPE\n",
    "            curr.append(len(ages))\n",
    "            curr.append(my_type)\n",
    "            \n",
    "            # GENE SET\n",
    "            if len(ages) < lq:\n",
    "                curr.append(\"Less Than %d Genes\"%lq)\n",
    "            elif len(ages) < mq:\n",
    "                curr.append(\"Less Than %d Genes\"%mq)\n",
    "            elif len(ages) < uq:\n",
    "                curr.append(\"Less Than %d Genes\"%uq)\n",
    "            else:\n",
    "                curr.append(\"Largest Gene Sets\")\n",
    "            \n",
    "            data.append(curr)\n",
    "        \n",
    "        \n",
    "    df = pd.DataFrame(data)\n",
    "    df.columns = ['function_name','ages_list',\n",
    "                  'Entropy','num_els','Type','GeneSet']\n",
    "    return df"
   ]
  },
  {
   "cell_type": "code",
   "execution_count": 6,
   "metadata": {},
   "outputs": [
    {
     "ename": "NameError",
     "evalue": "name 'my_function_to_age_dict' is not defined",
     "output_type": "error",
     "traceback": [
      "\u001b[0;31m---------------------------------------------------------------------------\u001b[0m",
      "\u001b[0;31mNameError\u001b[0m                                 Traceback (most recent call last)",
      "\u001b[0;32m<ipython-input-6-3ce6b707290f>\u001b[0m in \u001b[0;36m<module>\u001b[0;34m\u001b[0m\n\u001b[0;32m----> 1\u001b[0;31m \u001b[0mdf\u001b[0m \u001b[0;34m=\u001b[0m \u001b[0mget_data_in_dataframe\u001b[0m\u001b[0;34m(\u001b[0m\u001b[0mmy_function_to_age_dict\u001b[0m\u001b[0;34m,\u001b[0m\u001b[0mmy_ages_list\u001b[0m\u001b[0;34m)\u001b[0m\u001b[0;34m\u001b[0m\u001b[0m\n\u001b[0m\u001b[1;32m      2\u001b[0m \u001b[0mdf\u001b[0m\u001b[0;34m.\u001b[0m\u001b[0mtail\u001b[0m\u001b[0;34m(\u001b[0m\u001b[0;36m5\u001b[0m\u001b[0;34m)\u001b[0m\u001b[0;34m\u001b[0m\u001b[0m\n",
      "\u001b[0;31mNameError\u001b[0m: name 'my_function_to_age_dict' is not defined"
     ]
    }
   ],
   "source": [
    "df = get_data_in_dataframe(my_function_to_age_dict,my_ages_list)\n",
    "df.tail(5)"
   ]
  },
  {
   "cell_type": "code",
   "execution_count": null,
   "metadata": {},
   "outputs": [],
   "source": [
    "# make violin plot for entropy distribution of function grouped genes vs random grouped genes\n",
    "len_list = [len(my_function_to_age_dict[func]) for func in my_function_to_age_dict]\n",
    "lq = np.percentile(len_list,25)\n",
    "mq = np.percentile(len_list,50)\n",
    "uq = np.percentile(len_list,75)\n",
    "        \n",
    "v_df = df[[\"GeneSet\",\"Entropy\", \"Type\"]]\n",
    "sns.set_context(\"paper\",font_scale = 2)\n",
    "ax = sns.violinplot(x=\"GeneSet\",y=\"Entropy\",data=v_df,order = [\"Less Than %d Genes\"%lq,\"Less Than %d Genes\"%mq ,\"Less Than %d Genes\"%uq,\"Largest Gene Sets\"],hue=\"Type\",palette=\"muted\",split=True)\n",
    "plt.savefig(\"figures/violinplot_of_entropy_among_all_datasets_rep_in_group.png\",dpi=600)\n",
    "plt.show()"
   ]
  }
 ],
 "metadata": {
  "kernelspec": {
   "display_name": "Python 3",
   "language": "python",
   "name": "python3"
  },
  "language_info": {
   "codemirror_mode": {
    "name": "ipython",
    "version": 3
   },
   "file_extension": ".py",
   "mimetype": "text/x-python",
   "name": "python",
   "nbconvert_exporter": "python",
   "pygments_lexer": "ipython3",
   "version": "3.5.2"
  }
 },
 "nbformat": 4,
 "nbformat_minor": 2
}
