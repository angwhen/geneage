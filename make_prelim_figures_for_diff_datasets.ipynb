{
 "cells": [
  {
   "cell_type": "code",
   "execution_count": 1,
   "metadata": {},
   "outputs": [
    {
     "name": "stdout",
     "output_type": "stream",
     "text": [
      "['PANTHER8_all', 'EggNOG', 'InParanoidCore', 'Hieranoid_2', 'RSD', 'OMA_Groups', 'Orthoinspector', 'OMA_Pairs', 'PhylomeDB', 'Metaphors', 'InParanoid', 'PANTHER8_LDO', 'EnsemblCompara_v2']\n"
     ]
    }
   ],
   "source": [
    "import pickle\n",
    "import numpy as np\n",
    "from matplotlib import pyplot as plt\n",
    "plt.rcParams['figure.figsize'] = [20, 20]\n",
    "import random\n",
    "import sys\n",
    "import seaborn as sns\n",
    "import pandas as pd\n",
    "import prelim_fig_funcs\n",
    "\n",
    "# make sure you have \"binAges_HUMAN.csv\" from the google drive\n",
    "# then run \"preprocess/convert_multiple_gene_age_data_into_dict.py\"\n",
    "# then make sure you have \"data/function_to_genes_all_in_simplified.p\" from the google drive\n",
    "# then run \"save_function_to_age_pickle.py with the data from multiple datasets setting\n",
    "# to get the pickle files we'll be using \n",
    "\n",
    "dataset_to_gene_to_age_dict = pickle.load(open(\"data/dataset_to_gene_to_age_dict.p\",\"rb\"))  \n",
    "dataset_list = dataset_to_gene_to_age_dict.keys()\n",
    "print dataset_list"
   ]
  },
  {
   "cell_type": "code",
   "execution_count": 2,
   "metadata": {},
   "outputs": [],
   "source": [
    "# FUNCTION GROUPED\n",
    "functions_dict = {}\n",
    "means_dict = {}\n",
    "stds_dict = {}\n",
    "lens_dict = {}\n",
    "ages_dict = {}\n",
    "\n",
    "for dataset in dataset_list:\n",
    "    ages_list = []\n",
    "    for gene in dataset_to_gene_to_age_dict[dataset]:\n",
    "        ages_list.append(dataset_to_gene_to_age_dict[dataset][gene])\n",
    "    ages_list = np.array(ages_list)\n",
    "    ages_dict[dataset] = ages_list[ages_list != np.array(None)]\n",
    "    \n",
    "for dataset in dataset_list:\n",
    "    function_to_age_dict = pickle.load(open(\"data/function_to_age_%s_dict.p\"%dataset,\"rb\"))\n",
    "    function_list, mean_list, std_list, len_list = prelim_fig_funcs.get_function_grouped_age_data(function_to_age_dict)\n",
    "    functions_dict[dataset] = function_list\n",
    "    means_dict[dataset] = mean_list\n",
    "    stds_dict[dataset] = std_list\n",
    "    lens_dict[dataset] = len_list\n",
    "    \n",
    "# RANDOM\n",
    "# am doing this seperately for each dataset, even though each should be super similar\n",
    "# and would be faster to do for just one dataset and use it overall\n",
    "rand_means_dict = {}\n",
    "rand_stds_dict = {}\n",
    "for dataset in dataset_list:\n",
    "    rand_means_list, rand_stds_list = prelim_fig_funcs.get_random_grouped_age_data(lens_dict[dataset],ages_dict[dataset])\n",
    "    rand_means_dict[dataset] = rand_means_list\n",
    "    rand_stds_dict[dataset] = rand_stds_list\n",
    "    \n"
   ]
  },
  {
   "cell_type": "code",
   "execution_count": null,
   "metadata": {},
   "outputs": [],
   "source": [
    "\n",
    "rows = len(dataset_list)\n",
    "for i in xrange(0,rows):\n",
    "    ax_lists = [None,None,None]\n",
    "    fig, ax_lists = plt.subplots(1, 3 , sharex=False, sharey=False)\n",
    "    \n",
    "    dataset = dataset_list[i]\n",
    "    ax_lists[0].set_title(dataset)\n",
    "    prelim_fig_funcs.figure1(ax_lists[0],lens_dict[dataset],stds_dict[dataset], rand_stds_dict[dataset])\n",
    "    prelim_fig_funcs.figure2(ax_lists[1],stds_dict[dataset], rand_stds_dict[dataset])\n",
    "    prelim_fig_funcs.figure4(ax_lists[2],lens_dict[dataset],stds_dict[dataset], rand_stds_dict[dataset])\n",
    "    plt.savefig(\"figures/different_datasets_figures_table_%s.png\"%dataset,dpi=600)\n",
    "    "
   ]
  },
  {
   "cell_type": "code",
   "execution_count": null,
   "metadata": {},
   "outputs": [],
   "source": []
  }
 ],
 "metadata": {
  "kernelspec": {
   "display_name": "Python 2",
   "language": "python",
   "name": "python2"
  },
  "language_info": {
   "codemirror_mode": {
    "name": "ipython",
    "version": 2
   },
   "file_extension": ".py",
   "mimetype": "text/x-python",
   "name": "python",
   "nbconvert_exporter": "python",
   "pygments_lexer": "ipython2",
   "version": "2.7.12"
  }
 },
 "nbformat": 4,
 "nbformat_minor": 2
}
