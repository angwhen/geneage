{
 "cells": [
  {
   "cell_type": "code",
   "execution_count": 1,
   "metadata": {},
   "outputs": [
    {
     "ename": "SyntaxError",
     "evalue": "invalid syntax (core.py, line 153)",
     "output_type": "error",
     "traceback": [
      "Traceback \u001b[0;36m(most recent call last)\u001b[0m:\n",
      "  File \u001b[1;32m\"/home/angel/.local/lib/python3.5/site-packages/IPython/core/interactiveshell.py\"\u001b[0m, line \u001b[1;32m3326\u001b[0m, in \u001b[1;35mrun_code\u001b[0m\n    exec(code_obj, self.user_global_ns, self.user_ns)\n",
      "  File \u001b[1;32m\"<ipython-input-1-5240cc016ad8>\"\u001b[0m, line \u001b[1;32m10\u001b[0m, in \u001b[1;35m<module>\u001b[0m\n    from sklearn.mixture import GaussianMixture\n",
      "  File \u001b[1;32m\"/home/angel/.local/lib/python3.5/site-packages/sklearn/mixture/__init__.py\"\u001b[0m, line \u001b[1;32m5\u001b[0m, in \u001b[1;35m<module>\u001b[0m\n    from .gaussian_mixture import GaussianMixture\n",
      "  File \u001b[1;32m\"/home/angel/.local/lib/python3.5/site-packages/sklearn/mixture/gaussian_mixture.py\"\u001b[0m, line \u001b[1;32m11\u001b[0m, in \u001b[1;35m<module>\u001b[0m\n    from .base import BaseMixture, _check_shape\n",
      "  File \u001b[1;32m\"/home/angel/.local/lib/python3.5/site-packages/sklearn/mixture/base.py\"\u001b[0m, line \u001b[1;32m13\u001b[0m, in \u001b[1;35m<module>\u001b[0m\n    from .. import cluster\n",
      "  File \u001b[1;32m\"/home/angel/.local/lib/python3.5/site-packages/sklearn/cluster/__init__.py\"\u001b[0m, line \u001b[1;32m6\u001b[0m, in \u001b[1;35m<module>\u001b[0m\n    from .spectral import spectral_clustering, SpectralClustering\n",
      "  File \u001b[1;32m\"/home/angel/.local/lib/python3.5/site-packages/sklearn/cluster/spectral.py\"\u001b[0m, line \u001b[1;32m15\u001b[0m, in \u001b[1;35m<module>\u001b[0m\n    from ..metrics.pairwise import pairwise_kernels\n",
      "  File \u001b[1;32m\"/home/angel/.local/lib/python3.5/site-packages/sklearn/metrics/__init__.py\"\u001b[0m, line \u001b[1;32m7\u001b[0m, in \u001b[1;35m<module>\u001b[0m\n    from .ranking import auc\n",
      "  File \u001b[1;32m\"/home/angel/.local/lib/python3.5/site-packages/sklearn/metrics/ranking.py\"\u001b[0m, line \u001b[1;32m35\u001b[0m, in \u001b[1;35m<module>\u001b[0m\n    from ..preprocessing import label_binarize\n",
      "  File \u001b[1;32m\"/home/angel/.local/lib/python3.5/site-packages/sklearn/preprocessing/__init__.py\"\u001b[0m, line \u001b[1;32m6\u001b[0m, in \u001b[1;35m<module>\u001b[0m\n    from ._function_transformer import FunctionTransformer\n",
      "  File \u001b[1;32m\"/home/angel/.local/lib/python3.5/site-packages/sklearn/preprocessing/_function_transformer.py\"\u001b[0m, line \u001b[1;32m5\u001b[0m, in \u001b[1;35m<module>\u001b[0m\n    from ..utils.testing import assert_allclose_dense_sparse\n",
      "  File \u001b[1;32m\"/home/angel/.local/lib/python3.5/site-packages/sklearn/utils/testing.py\"\u001b[0m, line \u001b[1;32m61\u001b[0m, in \u001b[1;35m<module>\u001b[0m\n    from nose.tools import raises as _nose_raises\n",
      "\u001b[0;36m  File \u001b[0;32m\"/home/angel/miniconda2/lib/python2.7/site-packages/nose/__init__.py\"\u001b[0;36m, line \u001b[0;32m1\u001b[0;36m, in \u001b[0;35m<module>\u001b[0;36m\u001b[0m\n\u001b[0;31m    from nose.core import collector, main, run, run_exit, runmodule\u001b[0m\n",
      "\u001b[0;36m  File \u001b[0;32m\"/home/angel/miniconda2/lib/python2.7/site-packages/nose/core.py\"\u001b[0;36m, line \u001b[0;32m153\u001b[0m\n\u001b[0;31m    print \"%s version %s\" % (os.path.basename(sys.argv[0]), __version__)\u001b[0m\n\u001b[0m                        ^\u001b[0m\n\u001b[0;31mSyntaxError\u001b[0m\u001b[0;31m:\u001b[0m invalid syntax\n"
     ]
    }
   ],
   "source": [
    "import pickle\n",
    "import numpy as np\n",
    "from matplotlib import pyplot as plt\n",
    "import random\n",
    "import sys\n",
    "import seaborn as sns\n",
    "import pandas as pd\n",
    "from scipy import stats\n",
    "import os\n",
    "from sklearn.mixture import GaussianMixture\n",
    "import math"
   ]
  },
  {
   "cell_type": "code",
   "execution_count": 3,
   "metadata": {},
   "outputs": [],
   "source": [
    "def get_data_in_dataframe(function_to_ages,ages_list):\n",
    "    data = [] #function, ages_list, mean, std, len, rand_mean, rand_std\n",
    "    for func in function_to_ages:\n",
    "        curr = []\n",
    "        ages = np.array(function_to_ages[func])\n",
    "        \n",
    "        #remove Nones\n",
    "        ages = ages[ages != np.array(None)]\n",
    "        if len(ages) == 0:\n",
    "            continue\n",
    "            \n",
    "        #calculation of stats\n",
    "        curr.append(func)\n",
    "        curr.append(ages)\n",
    "        curr.append(np.mean(ages))\n",
    "        curr.append(np.std(ages))\n",
    "        curr.append(len(ages))\n",
    "        \n",
    "        g = GaussianMixure(2)\n",
    "        covs = g.fit(ages.reshape(-1,1)) \n",
    "        curr.append(math.sqrt(covs[0][0][0]))\n",
    "        curr.append(math.sqrt(covs[1][0][0]))\n",
    "            \n",
    "        #random (based on num ages)\n",
    "        rand_ages = random.sample(ages_list,len(ages))\n",
    "        curr.append(np.mean(rand_ages))\n",
    "        curr.append(np.std(rand_ages))\n",
    "        g = GaussianMixure(2)\n",
    "        covs = g.fit(rand_ages.reshape(-1,1)) \n",
    "        curr.append(math.sqrt(covs[0][0][0]))\n",
    "        curr.append(math.sqrt(covs[1][0][0]))\n",
    "        data.append(curr)\n",
    "        \n",
    "    df = pd.DataFrame(data)\n",
    "    df.columns = ['function_name','ages_list','age_mean','age_std','num_els','age_gmm2_std_1','age_gmm2_std_2','rand_age_mean','rand_age_std','rand_age_gmm2_std_1','rand_age_gmm2_std_2']\n",
    "    return df"
   ]
  },
  {
   "cell_type": "code",
   "execution_count": 5,
   "metadata": {},
   "outputs": [
    {
     "ename": "NameError",
     "evalue": "name 'GaussianMixure' is not defined",
     "output_type": "error",
     "traceback": [
      "\u001b[0;31m---------------------------------------------------------------------------\u001b[0m",
      "\u001b[0;31mNameError\u001b[0m                                 Traceback (most recent call last)",
      "\u001b[0;32m<ipython-input-5-83bbd6697a93>\u001b[0m in \u001b[0;36m<module>\u001b[0;34m\u001b[0m\n\u001b[1;32m      7\u001b[0m     \u001b[0mages_list\u001b[0m\u001b[0;34m.\u001b[0m\u001b[0mappend\u001b[0m\u001b[0;34m(\u001b[0m\u001b[0mgene_to_age_dict\u001b[0m\u001b[0;34m[\u001b[0m\u001b[0mgene\u001b[0m\u001b[0;34m]\u001b[0m\u001b[0;34m)\u001b[0m\u001b[0;34m\u001b[0m\u001b[0m\n\u001b[1;32m      8\u001b[0m \u001b[0;34m\u001b[0m\u001b[0m\n\u001b[0;32m----> 9\u001b[0;31m \u001b[0mdf\u001b[0m \u001b[0;34m=\u001b[0m \u001b[0mget_data_in_dataframe\u001b[0m\u001b[0;34m(\u001b[0m\u001b[0mfunction_to_ages\u001b[0m\u001b[0;34m,\u001b[0m\u001b[0mages_list\u001b[0m\u001b[0;34m)\u001b[0m\u001b[0;34m\u001b[0m\u001b[0m\n\u001b[0m",
      "\u001b[0;32m<ipython-input-3-b6a79de25231>\u001b[0m in \u001b[0;36mget_data_in_dataframe\u001b[0;34m(function_to_ages, ages_list)\u001b[0m\n\u001b[1;32m     17\u001b[0m         \u001b[0mcurr\u001b[0m\u001b[0;34m.\u001b[0m\u001b[0mappend\u001b[0m\u001b[0;34m(\u001b[0m\u001b[0mlen\u001b[0m\u001b[0;34m(\u001b[0m\u001b[0mages\u001b[0m\u001b[0;34m)\u001b[0m\u001b[0;34m)\u001b[0m\u001b[0;34m\u001b[0m\u001b[0m\n\u001b[1;32m     18\u001b[0m \u001b[0;34m\u001b[0m\u001b[0m\n\u001b[0;32m---> 19\u001b[0;31m         \u001b[0mg\u001b[0m \u001b[0;34m=\u001b[0m \u001b[0mGaussianMixure\u001b[0m\u001b[0;34m(\u001b[0m\u001b[0;36m2\u001b[0m\u001b[0;34m)\u001b[0m\u001b[0;34m\u001b[0m\u001b[0m\n\u001b[0m\u001b[1;32m     20\u001b[0m         \u001b[0mcovs\u001b[0m \u001b[0;34m=\u001b[0m \u001b[0mg\u001b[0m\u001b[0;34m.\u001b[0m\u001b[0mfit\u001b[0m\u001b[0;34m(\u001b[0m\u001b[0mages\u001b[0m\u001b[0;34m.\u001b[0m\u001b[0mreshape\u001b[0m\u001b[0;34m(\u001b[0m\u001b[0;34m-\u001b[0m\u001b[0;36m1\u001b[0m\u001b[0;34m,\u001b[0m\u001b[0;36m1\u001b[0m\u001b[0;34m)\u001b[0m\u001b[0;34m)\u001b[0m\u001b[0;34m\u001b[0m\u001b[0m\n\u001b[1;32m     21\u001b[0m         \u001b[0mcurr\u001b[0m\u001b[0;34m.\u001b[0m\u001b[0mappend\u001b[0m\u001b[0;34m(\u001b[0m\u001b[0mmath\u001b[0m\u001b[0;34m.\u001b[0m\u001b[0msqrt\u001b[0m\u001b[0;34m(\u001b[0m\u001b[0mcovs\u001b[0m\u001b[0;34m[\u001b[0m\u001b[0;36m0\u001b[0m\u001b[0;34m]\u001b[0m\u001b[0;34m[\u001b[0m\u001b[0;36m0\u001b[0m\u001b[0;34m]\u001b[0m\u001b[0;34m[\u001b[0m\u001b[0;36m0\u001b[0m\u001b[0;34m]\u001b[0m\u001b[0;34m)\u001b[0m\u001b[0;34m)\u001b[0m\u001b[0;34m\u001b[0m\u001b[0m\n",
      "\u001b[0;31mNameError\u001b[0m: name 'GaussianMixure' is not defined"
     ]
    }
   ],
   "source": [
    "# GET FUNC GROUPED AGE DATA\n",
    "function_to_ages = pickle.load(open(\"data/function_to_age_simplified_dict.p\",\"rb\"))\n",
    "\n",
    "gene_to_age_dict = pickle.load(open(\"data/gene_to_age_simplified_dict.p\",\"rb\"))\n",
    "ages_list = []\n",
    "for gene in gene_to_age_dict:\n",
    "    ages_list.append(gene_to_age_dict[gene])\n",
    "    \n",
    "df = get_data_in_dataframe(function_to_ages,ages_list)"
   ]
  },
  {
   "cell_type": "code",
   "execution_count": null,
   "metadata": {},
   "outputs": [],
   "source": [
    "df"
   ]
  },
  {
   "cell_type": "code",
   "execution_count": null,
   "metadata": {},
   "outputs": [],
   "source": []
  }
 ],
 "metadata": {
  "kernelspec": {
   "display_name": "Python 3",
   "language": "python",
   "name": "python3"
  },
  "language_info": {
   "codemirror_mode": {
    "name": "ipython",
    "version": 3
   },
   "file_extension": ".py",
   "mimetype": "text/x-python",
   "name": "python",
   "nbconvert_exporter": "python",
   "pygments_lexer": "ipython3",
   "version": "3.5.2"
  }
 },
 "nbformat": 4,
 "nbformat_minor": 2
}
