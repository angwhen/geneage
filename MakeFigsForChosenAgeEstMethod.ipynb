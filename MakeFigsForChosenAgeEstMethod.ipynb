{
 "cells": [
  {
   "cell_type": "code",
   "execution_count": 1,
   "metadata": {},
   "outputs": [],
   "source": [
    "import pickle\n",
    "import numpy as np\n",
    "from matplotlib import pyplot as plt\n",
    "plt.rcParams['figure.figsize'] = [20, 20]\n",
    "import random\n",
    "import sys\n",
    "import seaborn as sns\n",
    "import pandas as pd"
   ]
  },
  {
   "cell_type": "code",
   "execution_count": 32,
   "metadata": {},
   "outputs": [],
   "source": [
    "def get_data_in_dataframe(function_to_ages,ages_list):\n",
    "    data = [] #function, ages_list, mean, std, len, rand_mean, rand_std\n",
    "    for func in function_to_ages:\n",
    "        curr = []\n",
    "        ages = np.array(function_to_ages[func])\n",
    "        \n",
    "        #remove Nones\n",
    "        ages = ages[ages != np.array(None)]\n",
    "        if len(ages) == 0:\n",
    "            continue\n",
    "            \n",
    "        #calculation of stats\n",
    "        curr.append(func)\n",
    "        curr.append(ages)\n",
    "        curr.append(np.mean(ages))\n",
    "        curr.append(len(ages))\n",
    "            \n",
    "            \n",
    "        #random (based on num ages)\n",
    "        ages_list = np.array(ages_list)\n",
    "        ages_list = ages_list[ages_list != np.array(None)]\n",
    "        rand_ages = np.array(random.sample(list(ages_list),len(ages)))\n",
    "        curr.append(np.mean(rand_ages))\n",
    "        data.append(curr)\n",
    "        \n",
    "        \n",
    "    df = pd.DataFrame(data)\n",
    "    df.columns = ['function_name','ages_list',\n",
    "                  'age_mean','num_els',\n",
    "                  'rand_age_mean']\n",
    "    return df"
   ]
  },
  {
   "cell_type": "code",
   "execution_count": 19,
   "metadata": {},
   "outputs": [
    {
     "name": "stdout",
     "output_type": "stream",
     "text": [
      "dict_keys(['PANTHER8_LDO', 'PANTHER8_all', 'RSD', 'OMA_Groups', 'Metaphors', 'OMA_Pairs', 'EnsemblCompara_v2', 'InParanoidCore', 'EggNOG', 'Hieranoid_2', 'InParanoid', 'Orthoinspector', 'PhylomeDB'])\n"
     ]
    }
   ],
   "source": [
    "dataset_to_gene_to_age_dict = pickle.load(open(\"data/dataset_to_gene_to_age_dict.p\",\"rb\"))  \n",
    "dataset_list = dataset_to_gene_to_age_dict.keys()\n",
    "print (dataset_list)\n",
    "\n",
    "dataset_to_function_to_age_dict = {}\n",
    "dataset_to_ages_list = {}\n",
    "for dataset in dataset_list:\n",
    "    function_to_age_dict = pickle.load(open(\"data/function_to_age_%s_dict.p\"%dataset,\"rb\"))\n",
    "    dataset_to_function_to_age_dict[dataset] = function_to_age_dict \n",
    "    dataset_to_ages_list[dataset] = list(dataset_to_gene_to_age_dict[dataset].values())\n"
   ]
  },
  {
   "cell_type": "code",
   "execution_count": 33,
   "metadata": {},
   "outputs": [],
   "source": [
    "dataset_to_df_dict = {}\n",
    "for dataset in dataset_list:\n",
    "    dataset_to_df_dict[dataset] = get_data_in_dataframe(dataset_to_function_to_age_dict[dataset],dataset_to_ages_list[dataset])\n",
    "pickle.dump(dataset_to_df_dict,open(\"data/dataset_to_basic_df_dict.p\",\"wb\"))   "
   ]
  },
  {
   "cell_type": "code",
   "execution_count": null,
   "metadata": {},
   "outputs": [],
   "source": [
    "gen_df = pickle.dump(df,open(\"data/basic_df.p\",\"wb\"))"
   ]
  },
  {
   "cell_type": "code",
   "execution_count": null,
   "metadata": {},
   "outputs": [],
   "source": []
  },
  {
   "cell_type": "code",
   "execution_count": null,
   "metadata": {},
   "outputs": [],
   "source": []
  },
  {
   "cell_type": "markdown",
   "metadata": {},
   "source": [
    "## Determining best method to use as proxy for general/averages of ages"
   ]
  },
  {
   "cell_type": "code",
   "execution_count": 41,
   "metadata": {},
   "outputs": [
    {
     "name": "stdout",
     "output_type": "stream",
     "text": [
      "[[ 1.         -0.12242252]\n",
      " [-0.12242252  1.        ]]\n",
      "[[ 1.         -0.05516689]\n",
      " [-0.05516689  1.        ]]\n",
      "[[ 1.         -0.15663717]\n",
      " [-0.15663717  1.        ]]\n",
      "[[ 1.         -0.10199962]\n",
      " [-0.10199962  1.        ]]\n",
      "[[1.         0.00236041]\n",
      " [0.00236041 1.        ]]\n",
      "[[ 1.         -0.03194601]\n",
      " [-0.03194601  1.        ]]\n",
      "[[ 1.         -0.09812248]\n",
      " [-0.09812248  1.        ]]\n",
      "[[ 1.         -0.11055343]\n",
      " [-0.11055343  1.        ]]\n",
      "[[ 1.         -0.05303902]\n",
      " [-0.05303902  1.        ]]\n",
      "[[ 1.         -0.02859369]\n",
      " [-0.02859369  1.        ]]\n",
      "[[ 1.         -0.04072077]\n",
      " [-0.04072077  1.        ]]\n",
      "[[ 1.         -0.12333037]\n",
      " [-0.12333037  1.        ]]\n",
      "[[ 1.         -0.01846401]\n",
      " [-0.01846401  1.        ]]\n"
     ]
    }
   ],
   "source": [
    "# make chart showing correlation with default \n",
    "dataset_to_gene_to_age_dict = pickle.load(open(\"data/dataset_to_gene_to_age_dict.p\",\"rb\"))  \n",
    "gene_to_age_dict = pickle.load(open(\"data/gene_to_age_simplified_dict.p\",\"rb\"))\n",
    "methods_to_corr_dict = {}\n",
    "\n",
    "for dataset in dataset_list:\n",
    "    (keys,values) = zip(*dataset_to_gene_to_age_dict[dataset].items())\n",
    "    genes1 = [g for g, age in zip(keys, values) if age != None] \n",
    "    \n",
    "    (keys,values) = zip(*gene_to_age_dict.items())\n",
    "    genes2 = [g for g, age in zip(keys, values) if age != None] \n",
    "    \n",
    "    common_genes = set(genes1) & set(genes2)\n",
    "    ages1 = [dataset_to_gene_to_age_dict[dataset][gene] for gene in common_genes]\n",
    "    ages2 = [gene_to_age_dict[gene] for gene in common_genes]\n",
    "    corr = np.corrcoef(ages1,ages2)[0][1]\n",
    "    methods_to_corr_dict[dataset] = corr\n"
   ]
  },
  {
   "cell_type": "code",
   "execution_count": 44,
   "metadata": {},
   "outputs": [
    {
     "data": {
      "image/png": "[encoded data removed]",
      "text/plain": [
       "<Figure size 432x288 with 1 Axes>"
      ]
     },
     "metadata": {
      "needs_background": "light"
     },
     "output_type": "display_data"
    },
    {
     "data": {
      "text/plain": [
       "<Figure size 432x288 with 0 Axes>"
      ]
     },
     "metadata": {},
     "output_type": "display_data"
    }
   ],
   "source": [
    "plt.bar(range(len(methods_to_corr_dict)), list(methods_to_corr_dict.values()), align='center')\n",
    "plt.xticks(range(len(methods_to_corr_dict)), list(methods_to_corr_dict.keys()), rotation='vertical')\n",
    "plt.ylabel(\"Pearson correlation of ages with consensus ages\")\n",
    "plt.show()\n",
    "plt.savefig(\"figures/pearson_correlation_of_ages_from_diff_methods_with_consensus_ages.png\")"
   ]
  },
  {
   "cell_type": "code",
   "execution_count": null,
   "metadata": {},
   "outputs": [],
   "source": []
  }
 ],
 "metadata": {
  "kernelspec": {
   "display_name": "Python 3",
   "language": "python",
   "name": "python3"
  },
  "language_info": {
   "codemirror_mode": {
    "name": "ipython",
    "version": 3
   },
   "file_extension": ".py",
   "mimetype": "text/x-python",
   "name": "python",
   "nbconvert_exporter": "python",
   "pygments_lexer": "ipython3",
   "version": "3.5.2"
  }
 },
 "nbformat": 4,
 "nbformat_minor": 2
}
